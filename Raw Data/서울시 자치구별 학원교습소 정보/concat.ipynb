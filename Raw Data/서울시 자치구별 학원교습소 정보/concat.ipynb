{
 "cells": [
  {
   "cell_type": "code",
   "execution_count": 2,
   "metadata": {},
   "outputs": [],
   "source": [
    "import pandas as pd"
   ]
  },
  {
   "cell_type": "code",
   "execution_count": 4,
   "metadata": {},
   "outputs": [],
   "source": [
    "gm = pd.read_csv('/Users/Jenny/Desktop/seoulbigcam/Raw Data/서울시 자치구별 학원교습소 정보/서울시 강남구 학원 교습소정보.csv', encoding='CP949')\n",
    "gd = pd.read_csv('/Users/Jenny/Desktop/seoulbigcam/Raw Data/서울시 자치구별 학원교습소 정보/서울시 강동구 학원 교습소정보.csv', encoding='CP949')\n",
    "gb = pd.read_csv('/Users/Jenny/Desktop/seoulbigcam/Raw Data/서울시 자치구별 학원교습소 정보/서울시 강북구 학원 교습소정보.csv', encoding='CP949')\n",
    "gs = pd.read_csv('/Users/Jenny/Desktop/seoulbigcam/Raw Data/서울시 자치구별 학원교습소 정보/서울시 강서구 학원 교습소정보.csv', encoding='CP949')\n",
    "gw = pd.read_csv('/Users/Jenny/Desktop/seoulbigcam/Raw Data/서울시 자치구별 학원교습소 정보/서울시 관악구 학원 교습소정보.csv', encoding='CP949')\n",
    "gj = pd.read_csv('/Users/Jenny/Desktop/seoulbigcam/Raw Data/서울시 자치구별 학원교습소 정보/서울시 광진구 학원 교습소정보.csv', encoding='CP949')\n",
    "gr = pd.read_csv('/Users/Jenny/Desktop/seoulbigcam/Raw Data/서울시 자치구별 학원교습소 정보/서울시 구로구 학원 교습소정보.csv', encoding='CP949')\n",
    "gc = pd.read_csv('/Users/Jenny/Desktop/seoulbigcam/Raw Data/서울시 자치구별 학원교습소 정보/서울시 금천구 학원 교습소정보.csv', encoding='CP949')\n",
    "nw = pd.read_csv('/Users/Jenny/Desktop/seoulbigcam/Raw Data/서울시 자치구별 학원교습소 정보/서울시 노원구 학원 교습소정보.csv', encoding='CP949')\n",
    "db = pd.read_csv('/Users/Jenny/Desktop/seoulbigcam/Raw Data/서울시 자치구별 학원교습소 정보/서울시 도봉구 학원 교습소정보.csv', encoding='CP949')\n",
    "ddm = pd.read_csv('/Users/Jenny/Desktop/seoulbigcam/Raw Data/서울시 자치구별 학원교습소 정보/서울시 동대문구 학원 교습소정보.csv', encoding='CP949')\n",
    "dj = pd.read_csv('/Users/Jenny/Desktop/seoulbigcam/Raw Data/서울시 자치구별 학원교습소 정보/서울시 동작구 학원 교습소정보.csv', encoding='CP949')\n",
    "mp = pd.read_csv('/Users/Jenny/Desktop/seoulbigcam/Raw Data/서울시 자치구별 학원교습소 정보/서울시 마포구 학원 교습소정보.csv', encoding='CP949')\n",
    "sdm = pd.read_csv('/Users/Jenny/Desktop/seoulbigcam/Raw Data/서울시 자치구별 학원교습소 정보/서울시 서대문구 학원 교습소정보.csv', encoding='CP949')\n",
    "sc = pd.read_csv('/Users/Jenny/Desktop/seoulbigcam/Raw Data/서울시 자치구별 학원교습소 정보/서울시 서초구 학원 교습소정보.csv', encoding='CP949')\n",
    "sd = pd.read_csv('/Users/Jenny/Desktop/seoulbigcam/Raw Data/서울시 자치구별 학원교습소 정보/서울시 성동구 학원 교습소정보.csv', encoding='CP949')\n",
    "sb = pd.read_csv('/Users/Jenny/Desktop/seoulbigcam/Raw Data/서울시 자치구별 학원교습소 정보/서울시 성북구 학원 교습소정보.csv', encoding='CP949')\n",
    "sp = pd.read_csv('/Users/Jenny/Desktop/seoulbigcam/Raw Data/서울시 자치구별 학원교습소 정보/서울시 송파구 학원 교습소정보.csv', encoding='CP949')\n",
    "yc = pd.read_csv('/Users/Jenny/Desktop/seoulbigcam/Raw Data/서울시 자치구별 학원교습소 정보/서울시 양천구 학원 교습소정보.csv', encoding='CP949')\n",
    "ydp = pd.read_csv('/Users/Jenny/Desktop/seoulbigcam/Raw Data/서울시 자치구별 학원교습소 정보/서울시 영등포구 학원 교습소정보.csv', encoding='CP949')\n",
    "ys = pd.read_csv('/Users/Jenny/Desktop/seoulbigcam/Raw Data/서울시 자치구별 학원교습소 정보/서울시 용산구 학원 교습소정보.csv', encoding='CP949')\n",
    "ep = pd.read_csv('/Users/Jenny/Desktop/seoulbigcam/Raw Data/서울시 자치구별 학원교습소 정보/서울시 은평구 학원 교습소정보.csv', encoding='CP949')\n",
    "jr = pd.read_csv('/Users/Jenny/Desktop/seoulbigcam/Raw Data/서울시 자치구별 학원교습소 정보/서울시 종로구 학원 교습소정보.csv', encoding='CP949')\n",
    "jo = pd.read_csv('/Users/Jenny/Desktop/seoulbigcam/Raw Data/서울시 자치구별 학원교습소 정보/서울시 중구 학원 교습소정보.csv', encoding='CP949')\n",
    "jra = pd.read_csv('/Users/Jenny/Desktop/seoulbigcam/Raw Data/서울시 자치구별 학원교습소 정보/서울시 중랑구 학원 교습소정보.csv', encoding='CP949')"
   ]
  },
  {
   "cell_type": "code",
   "execution_count": 6,
   "metadata": {},
   "outputs": [],
   "source": [
    "institute = pd.concat([gm, gd, gb, gs, gw,\n",
    "                       gj, gr, gc, nw, db,\n",
    "                       ddm, dj, mp, sdm, sc,\n",
    "                       sd, sb, sp, yc, ydp,\n",
    "                       ys, ep, jr, jo, jra])"
   ]
  },
  {
   "cell_type": "code",
   "execution_count": 10,
   "metadata": {},
   "outputs": [
    {
     "name": "stdout",
     "output_type": "stream",
     "text": [
      "<class 'pandas.core.frame.DataFrame'>\n",
      "Int64Index: 25995 entries, 0 to 565\n",
      "Data columns (total 22 columns):\n",
      " #   Column      Non-Null Count  Dtype  \n",
      "---  ------      --------------  -----  \n",
      " 0   행정구역명       25995 non-null  object \n",
      " 1   학원/교습소      25995 non-null  object \n",
      " 2   학원지정번호      25995 non-null  int64  \n",
      " 3   학원명         25995 non-null  object \n",
      " 4   도로명주소       25985 non-null  object \n",
      " 5   도로명상세주소     25920 non-null  object \n",
      " 6   분야명         25994 non-null  object \n",
      " 7   교습계열명       24187 non-null  object \n",
      " 8   교습과정목록명     17988 non-null  object \n",
      " 9   교습과정명       24189 non-null  object \n",
      " 10  정원합계        25995 non-null  int64  \n",
      " 11  일시수용능력인원합계  25995 non-null  int64  \n",
      " 12  인당수강료내용     5470 non-null   object \n",
      " 13  수강료공개여부     25995 non-null  object \n",
      " 14  기숙사학원여부     25631 non-null  object \n",
      " 15  도로명우편번호     25995 non-null  int64  \n",
      " 16  등록상태명       25995 non-null  object \n",
      " 17  등록일자        25995 non-null  int64  \n",
      " 18  휴원시작일자      373 non-null    float64\n",
      " 19  휴원종료일자      25368 non-null  float64\n",
      " 20  개설일자        25995 non-null  int64  \n",
      " 21  적재일시        25995 non-null  int64  \n",
      "dtypes: float64(2), int64(7), object(13)\n",
      "memory usage: 4.6+ MB\n"
     ]
    }
   ],
   "source": [
    "institute.info()"
   ]
  },
  {
   "cell_type": "code",
   "execution_count": null,
   "metadata": {},
   "outputs": [],
   "source": [
    "institute = institute[['학원명', '도로명주소']]"
   ]
  },
  {
   "cell_type": "code",
   "execution_count": 8,
   "metadata": {},
   "outputs": [],
   "source": [
    "institute.to_csv('concat.csv')"
   ]
  },
  {
   "cell_type": "code",
   "execution_count": 13,
   "metadata": {},
   "outputs": [
    {
     "name": "stdout",
     "output_type": "stream",
     "text": [
      "<class 'pandas.core.frame.DataFrame'>\n",
      "Int64Index: 25705 entries, 0 to 565\n",
      "Data columns (total 22 columns):\n",
      " #   Column      Non-Null Count  Dtype  \n",
      "---  ------      --------------  -----  \n",
      " 0   행정구역명       25705 non-null  object \n",
      " 1   학원/교습소      25705 non-null  object \n",
      " 2   학원지정번호      25705 non-null  int64  \n",
      " 3   학원명         25705 non-null  object \n",
      " 4   도로명주소       25695 non-null  object \n",
      " 5   도로명상세주소     25630 non-null  object \n",
      " 6   분야명         25704 non-null  object \n",
      " 7   교습계열명       23937 non-null  object \n",
      " 8   교습과정목록명     25705 non-null  object \n",
      " 9   교습과정명       23939 non-null  object \n",
      " 10  정원합계        25705 non-null  int64  \n",
      " 11  일시수용능력인원합계  25705 non-null  int64  \n",
      " 12  인당수강료내용     5469 non-null   object \n",
      " 13  수강료공개여부     25705 non-null  object \n",
      " 14  기숙사학원여부     25342 non-null  object \n",
      " 15  도로명우편번호     25705 non-null  int64  \n",
      " 16  등록상태명       25705 non-null  object \n",
      " 17  등록일자        25705 non-null  int64  \n",
      " 18  휴원시작일자      368 non-null    float64\n",
      " 19  휴원종료일자      25082 non-null  float64\n",
      " 20  개설일자        25705 non-null  int64  \n",
      " 21  적재일시        25705 non-null  int64  \n",
      "dtypes: float64(2), int64(7), object(13)\n",
      "memory usage: 4.5+ MB\n"
     ]
    }
   ],
   "source": [
    "# 성인대상 학원 제외\n",
    "\n",
    "institute['교습과정목록명'] = institute['교습과정목록명'].fillna('')  # 결측값을 빈 문자열로 대체\n",
    "institute = institute[~institute['교습과정목록명'].str.contains('성인')]\n",
    "institute.info()"
   ]
  },
  {
   "cell_type": "code",
   "execution_count": 14,
   "metadata": {},
   "outputs": [
    {
     "name": "stdout",
     "output_type": "stream",
     "text": [
      "<class 'pandas.core.frame.DataFrame'>\n",
      "Int64Index: 25645 entries, 0 to 565\n",
      "Data columns (total 22 columns):\n",
      " #   Column      Non-Null Count  Dtype  \n",
      "---  ------      --------------  -----  \n",
      " 0   행정구역명       25645 non-null  object \n",
      " 1   학원/교습소      25645 non-null  object \n",
      " 2   학원지정번호      25645 non-null  int64  \n",
      " 3   학원명         25645 non-null  object \n",
      " 4   도로명주소       25635 non-null  object \n",
      " 5   도로명상세주소     25570 non-null  object \n",
      " 6   분야명         25644 non-null  object \n",
      " 7   교습계열명       23877 non-null  object \n",
      " 8   교습과정목록명     25645 non-null  object \n",
      " 9   교습과정명       25645 non-null  object \n",
      " 10  정원합계        25645 non-null  int64  \n",
      " 11  일시수용능력인원합계  25645 non-null  int64  \n",
      " 12  인당수강료내용     5469 non-null   object \n",
      " 13  수강료공개여부     25645 non-null  object \n",
      " 14  기숙사학원여부     25282 non-null  object \n",
      " 15  도로명우편번호     25645 non-null  int64  \n",
      " 16  등록상태명       25645 non-null  object \n",
      " 17  등록일자        25645 non-null  int64  \n",
      " 18  휴원시작일자      365 non-null    float64\n",
      " 19  휴원종료일자      25022 non-null  float64\n",
      " 20  개설일자        25645 non-null  int64  \n",
      " 21  적재일시        25645 non-null  int64  \n",
      "dtypes: float64(2), int64(7), object(13)\n",
      "memory usage: 4.5+ MB\n"
     ]
    }
   ],
   "source": [
    "institute['교습과정명'] = institute['교습과정명'].fillna('')  # 결측값을 빈 문자열로 대체\n",
    "institute = institute[~institute['교습과정명'].str.contains('성인')]\n",
    "institute.info()"
   ]
  },
  {
   "cell_type": "code",
   "execution_count": 15,
   "metadata": {},
   "outputs": [],
   "source": [
    "institute.to_csv('/Users/Jenny/Desktop/seoulbigcam/Preprocessed Data/서울시 학원 데이터 전처리.csv')"
   ]
  },
  {
   "cell_type": "code",
   "execution_count": null,
   "metadata": {},
   "outputs": [],
   "source": []
  }
 ],
 "metadata": {
  "kernelspec": {
   "display_name": "base",
   "language": "python",
   "name": "python3"
  },
  "language_info": {
   "codemirror_mode": {
    "name": "ipython",
    "version": 3
   },
   "file_extension": ".py",
   "mimetype": "text/x-python",
   "name": "python",
   "nbconvert_exporter": "python",
   "pygments_lexer": "ipython3",
   "version": "3.10.9"
  }
 },
 "nbformat": 4,
 "nbformat_minor": 2
}

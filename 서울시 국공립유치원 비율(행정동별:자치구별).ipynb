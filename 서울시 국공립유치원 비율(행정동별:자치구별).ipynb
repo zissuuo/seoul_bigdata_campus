{
 "cells": [
  {
   "cell_type": "code",
   "execution_count": 2,
   "metadata": {},
   "outputs": [],
   "source": [
    "import pandas as pd\n",
    "import numpy as np"
   ]
  },
  {
   "attachments": {},
   "cell_type": "markdown",
   "metadata": {},
   "source": [
    "### 크롤링한 데이터 전처리"
   ]
  },
  {
   "cell_type": "code",
   "execution_count": 29,
   "metadata": {},
   "outputs": [
    {
     "data": {
      "text/html": [
       "<div>\n",
       "<style scoped>\n",
       "    .dataframe tbody tr th:only-of-type {\n",
       "        vertical-align: middle;\n",
       "    }\n",
       "\n",
       "    .dataframe tbody tr th {\n",
       "        vertical-align: top;\n",
       "    }\n",
       "\n",
       "    .dataframe thead th {\n",
       "        text-align: right;\n",
       "    }\n",
       "</style>\n",
       "<table border=\"1\" class=\"dataframe\">\n",
       "  <thead>\n",
       "    <tr style=\"text-align: right;\">\n",
       "      <th></th>\n",
       "      <th>kin_type</th>\n",
       "      <th>kin_name</th>\n",
       "      <th>kin_addr</th>\n",
       "    </tr>\n",
       "  </thead>\n",
       "  <tbody>\n",
       "    <tr>\n",
       "      <th>0</th>\n",
       "      <td>사립(사인)</td>\n",
       "      <td>가람유치원</td>\n",
       "      <td>&lt;span&gt;서울특별시 강동구 상암로63길 39&lt;/span&gt;</td>\n",
       "    </tr>\n",
       "    <tr>\n",
       "      <th>1</th>\n",
       "      <td>사립(법인)</td>\n",
       "      <td>가명유치원</td>\n",
       "      <td>&lt;span&gt;서울특별시 중구 청파로 447-1&lt;/span&gt;</td>\n",
       "    </tr>\n",
       "    <tr>\n",
       "      <th>2</th>\n",
       "      <td>사립(사인)</td>\n",
       "      <td>강남유정유치원</td>\n",
       "      <td>&lt;span&gt;서울특별시 강남구 광평로34길 17&lt;/span&gt;</td>\n",
       "    </tr>\n",
       "    <tr>\n",
       "      <th>3</th>\n",
       "      <td>사립(사인)</td>\n",
       "      <td>강남유치원</td>\n",
       "      <td>&lt;span&gt;서울특별시 강남구 선릉로129길 31&lt;/span&gt;</td>\n",
       "    </tr>\n",
       "    <tr>\n",
       "      <th>4</th>\n",
       "      <td>사립(사인)</td>\n",
       "      <td>강남유치원</td>\n",
       "      <td>&lt;span&gt;서울특별시 동작구 상도로41가길 13&lt;/span&gt;</td>\n",
       "    </tr>\n",
       "  </tbody>\n",
       "</table>\n",
       "</div>"
      ],
      "text/plain": [
       "  kin_type kin_name                           kin_addr\n",
       "0   사립(사인)    가람유치원   <span>서울특별시 강동구 상암로63길 39</span>\n",
       "1   사립(법인)    가명유치원    <span>서울특별시 중구 청파로 447-1</span>\n",
       "2   사립(사인)  강남유정유치원   <span>서울특별시 강남구 광평로34길 17</span>\n",
       "3   사립(사인)    강남유치원  <span>서울특별시 강남구 선릉로129길 31</span>\n",
       "4   사립(사인)    강남유치원  <span>서울특별시 동작구 상도로41가길 13</span>"
      ]
     },
     "execution_count": 29,
     "metadata": {},
     "output_type": "execute_result"
    }
   ],
   "source": [
    "kin = pd.read_csv(\"/Users/Jenny/Desktop/공모전/유치원 데이터 크롤링.csv\")\n",
    "kin.head()"
   ]
  },
  {
   "cell_type": "code",
   "execution_count": 30,
   "metadata": {},
   "outputs": [
    {
     "data": {
      "text/html": [
       "<div>\n",
       "<style scoped>\n",
       "    .dataframe tbody tr th:only-of-type {\n",
       "        vertical-align: middle;\n",
       "    }\n",
       "\n",
       "    .dataframe tbody tr th {\n",
       "        vertical-align: top;\n",
       "    }\n",
       "\n",
       "    .dataframe thead th {\n",
       "        text-align: right;\n",
       "    }\n",
       "</style>\n",
       "<table border=\"1\" class=\"dataframe\">\n",
       "  <thead>\n",
       "    <tr style=\"text-align: right;\">\n",
       "      <th></th>\n",
       "      <th>kin_type</th>\n",
       "      <th>kin_name</th>\n",
       "      <th>kin_addr</th>\n",
       "    </tr>\n",
       "  </thead>\n",
       "  <tbody>\n",
       "    <tr>\n",
       "      <th>0</th>\n",
       "      <td>사립(사인)</td>\n",
       "      <td>가람유치원</td>\n",
       "      <td>서울특별시 강동구 상암로63길 39</td>\n",
       "    </tr>\n",
       "    <tr>\n",
       "      <th>1</th>\n",
       "      <td>사립(법인)</td>\n",
       "      <td>가명유치원</td>\n",
       "      <td>서울특별시 중구 청파로 447-1</td>\n",
       "    </tr>\n",
       "    <tr>\n",
       "      <th>2</th>\n",
       "      <td>사립(사인)</td>\n",
       "      <td>강남유정유치원</td>\n",
       "      <td>서울특별시 강남구 광평로34길 17</td>\n",
       "    </tr>\n",
       "    <tr>\n",
       "      <th>3</th>\n",
       "      <td>사립(사인)</td>\n",
       "      <td>강남유치원</td>\n",
       "      <td>서울특별시 강남구 선릉로129길 31</td>\n",
       "    </tr>\n",
       "    <tr>\n",
       "      <th>4</th>\n",
       "      <td>사립(사인)</td>\n",
       "      <td>강남유치원</td>\n",
       "      <td>서울특별시 동작구 상도로41가길 13</td>\n",
       "    </tr>\n",
       "  </tbody>\n",
       "</table>\n",
       "</div>"
      ],
      "text/plain": [
       "  kin_type kin_name              kin_addr\n",
       "0   사립(사인)    가람유치원   서울특별시 강동구 상암로63길 39\n",
       "1   사립(법인)    가명유치원    서울특별시 중구 청파로 447-1\n",
       "2   사립(사인)  강남유정유치원   서울특별시 강남구 광평로34길 17\n",
       "3   사립(사인)    강남유치원  서울특별시 강남구 선릉로129길 31\n",
       "4   사립(사인)    강남유치원  서울특별시 동작구 상도로41가길 13"
      ]
     },
     "execution_count": 30,
     "metadata": {},
     "output_type": "execute_result"
    }
   ],
   "source": [
    "kin['kin_addr'] = kin['kin_addr'].str[6:-7]\n",
    "kin.head()"
   ]
  },
  {
   "attachments": {},
   "cell_type": "markdown",
   "metadata": {},
   "source": [
    "### 도로명 주소로 행정동 추출하기"
   ]
  },
  {
   "cell_type": "code",
   "execution_count": 18,
   "metadata": {},
   "outputs": [
    {
     "data": {
      "text/plain": [
       "0        서울특별시 강동구 상암로63길 39\n",
       "1         서울특별시 중구 청파로 447-1\n",
       "2        서울특별시 강남구 광평로34길 17\n",
       "3       서울특별시 강남구 선릉로129길 31\n",
       "4       서울특별시 동작구 상도로41가길 13\n",
       "               ...          \n",
       "753    서울특별시 강동구 천중로35길 37-1\n",
       "754       서울특별시 은평구 은평터널로 65\n",
       "755        서울특별시 노원구 마들로 111\n",
       "756      서울특별시 노원구 중계로18길 14\n",
       "757     서울특별시 성북구 동소문로34길 24\n",
       "Name: kin_addr, Length: 758, dtype: object"
      ]
     },
     "execution_count": 18,
     "metadata": {},
     "output_type": "execute_result"
    }
   ],
   "source": [
    "# 주소만 적힌 데이터 생성\n",
    "\n",
    "addrs = kin['kin_addr']\n",
    "addrs"
   ]
  },
  {
   "cell_type": "code",
   "execution_count": 7,
   "metadata": {},
   "outputs": [],
   "source": [
    "import requests\n",
    "import json\n",
    "\n",
    "locations = []\n",
    "for addr in addrs:\n",
    "    url = 'https://dapi.kakao.com/v2/local/search/address.json?query={}'.format(addr)\n",
    "    headers = {\n",
    "    ## 카카오 API의 REST API키를 아래 예시와 같이 입력해주세요\n",
    "    ## \"Authorization\": \"KakaoAK REST API키 입력 gogo\"}\n",
    "    \"Authorization\": \"KakaoAK 8cd64c4299a983cac6fd3edef103f134\"}\n",
    "    place = requests.get(url, headers = headers).json()['documents']\n",
    "    locations.append(place)"
   ]
  },
  {
   "cell_type": "code",
   "execution_count": 8,
   "metadata": {},
   "outputs": [
    {
     "name": "stdout",
     "output_type": "stream",
     "text": [
      "3 번째 주소 못가져옴\n",
      "196 번째 주소 못가져옴\n"
     ]
    }
   ],
   "source": [
    "city = [] ## 구\n",
    "town = [] ## 행정동\n",
    "for i in range(len(locations)):\n",
    "    \n",
    "    try:\n",
    "        city.append(locations[i][0].get('address').get('region_2depth_name'))\n",
    "        town.append(locations[i][0].get('address').get('region_3depth_h_name'))\n",
    "        \n",
    "    except IndexError:\n",
    "        print(i,'번째 주소 못가져옴', end ='')\n",
    "        print()\n",
    "        city.append('없음')\n",
    "        town.append('없음')\n",
    "    \n",
    "    except AttributeError:\n",
    "        city.append(locations[i][0].get('road_address').get('region_2depth_name'))\n",
    "        town.append(locations[i][0].get('road_address').get('region_3depth_h_name'))"
   ]
  },
  {
   "cell_type": "code",
   "execution_count": 9,
   "metadata": {},
   "outputs": [
    {
     "data": {
      "text/html": [
       "<div>\n",
       "<style scoped>\n",
       "    .dataframe tbody tr th:only-of-type {\n",
       "        vertical-align: middle;\n",
       "    }\n",
       "\n",
       "    .dataframe tbody tr th {\n",
       "        vertical-align: top;\n",
       "    }\n",
       "\n",
       "    .dataframe thead th {\n",
       "        text-align: right;\n",
       "    }\n",
       "</style>\n",
       "<table border=\"1\" class=\"dataframe\">\n",
       "  <thead>\n",
       "    <tr style=\"text-align: right;\">\n",
       "      <th></th>\n",
       "      <th>region_2depth_name</th>\n",
       "      <th>region_3depth_h_name</th>\n",
       "    </tr>\n",
       "  </thead>\n",
       "  <tbody>\n",
       "    <tr>\n",
       "      <th>0</th>\n",
       "      <td>강동구</td>\n",
       "      <td>명일2동</td>\n",
       "    </tr>\n",
       "    <tr>\n",
       "      <th>1</th>\n",
       "      <td>중구</td>\n",
       "      <td>중림동</td>\n",
       "    </tr>\n",
       "    <tr>\n",
       "      <th>2</th>\n",
       "      <td>강남구</td>\n",
       "      <td>수서동</td>\n",
       "    </tr>\n",
       "    <tr>\n",
       "      <th>3</th>\n",
       "      <td>없음</td>\n",
       "      <td>없음</td>\n",
       "    </tr>\n",
       "    <tr>\n",
       "      <th>4</th>\n",
       "      <td>동작구</td>\n",
       "      <td>상도1동</td>\n",
       "    </tr>\n",
       "  </tbody>\n",
       "</table>\n",
       "</div>"
      ],
      "text/plain": [
       "  region_2depth_name region_3depth_h_name\n",
       "0                강동구                 명일2동\n",
       "1                 중구                  중림동\n",
       "2                강남구                  수서동\n",
       "3                 없음                   없음\n",
       "4                동작구                 상도1동"
      ]
     },
     "execution_count": 9,
     "metadata": {},
     "output_type": "execute_result"
    }
   ],
   "source": [
    "city_town = np.array([city,town]).T\n",
    "df_temp = pd.DataFrame(city_town, columns = ['region_2depth_name','region_3depth_h_name'])\n",
    "df_temp.head()"
   ]
  },
  {
   "cell_type": "code",
   "execution_count": 31,
   "metadata": {},
   "outputs": [
    {
     "data": {
      "text/html": [
       "<div>\n",
       "<style scoped>\n",
       "    .dataframe tbody tr th:only-of-type {\n",
       "        vertical-align: middle;\n",
       "    }\n",
       "\n",
       "    .dataframe tbody tr th {\n",
       "        vertical-align: top;\n",
       "    }\n",
       "\n",
       "    .dataframe thead th {\n",
       "        text-align: right;\n",
       "    }\n",
       "</style>\n",
       "<table border=\"1\" class=\"dataframe\">\n",
       "  <thead>\n",
       "    <tr style=\"text-align: right;\">\n",
       "      <th></th>\n",
       "      <th>kin_type</th>\n",
       "      <th>kin_name</th>\n",
       "      <th>kin_addr</th>\n",
       "      <th>addr_gu</th>\n",
       "      <th>addr_dong</th>\n",
       "    </tr>\n",
       "  </thead>\n",
       "  <tbody>\n",
       "    <tr>\n",
       "      <th>0</th>\n",
       "      <td>사립(사인)</td>\n",
       "      <td>가람유치원</td>\n",
       "      <td>서울특별시 강동구 상암로63길 39</td>\n",
       "      <td>강동구</td>\n",
       "      <td>명일2동</td>\n",
       "    </tr>\n",
       "    <tr>\n",
       "      <th>1</th>\n",
       "      <td>사립(법인)</td>\n",
       "      <td>가명유치원</td>\n",
       "      <td>서울특별시 중구 청파로 447-1</td>\n",
       "      <td>중구</td>\n",
       "      <td>중림동</td>\n",
       "    </tr>\n",
       "    <tr>\n",
       "      <th>2</th>\n",
       "      <td>사립(사인)</td>\n",
       "      <td>강남유정유치원</td>\n",
       "      <td>서울특별시 강남구 광평로34길 17</td>\n",
       "      <td>강남구</td>\n",
       "      <td>수서동</td>\n",
       "    </tr>\n",
       "    <tr>\n",
       "      <th>3</th>\n",
       "      <td>사립(사인)</td>\n",
       "      <td>강남유치원</td>\n",
       "      <td>서울특별시 강남구 선릉로129길 31</td>\n",
       "      <td>없음</td>\n",
       "      <td>없음</td>\n",
       "    </tr>\n",
       "    <tr>\n",
       "      <th>4</th>\n",
       "      <td>사립(사인)</td>\n",
       "      <td>강남유치원</td>\n",
       "      <td>서울특별시 동작구 상도로41가길 13</td>\n",
       "      <td>동작구</td>\n",
       "      <td>상도1동</td>\n",
       "    </tr>\n",
       "  </tbody>\n",
       "</table>\n",
       "</div>"
      ],
      "text/plain": [
       "  kin_type kin_name              kin_addr addr_gu addr_dong\n",
       "0   사립(사인)    가람유치원   서울특별시 강동구 상암로63길 39     강동구      명일2동\n",
       "1   사립(법인)    가명유치원    서울특별시 중구 청파로 447-1      중구       중림동\n",
       "2   사립(사인)  강남유정유치원   서울특별시 강남구 광평로34길 17     강남구       수서동\n",
       "3   사립(사인)    강남유치원  서울특별시 강남구 선릉로129길 31      없음        없음\n",
       "4   사립(사인)    강남유치원  서울특별시 동작구 상도로41가길 13     동작구      상도1동"
      ]
     },
     "execution_count": 31,
     "metadata": {},
     "output_type": "execute_result"
    }
   ],
   "source": [
    "kin['addr_gu'] = df_temp['region_2depth_name']\n",
    "kin['addr_dong'] = df_temp['region_3depth_h_name']\n",
    "kin.head()"
   ]
  },
  {
   "cell_type": "code",
   "execution_count": 32,
   "metadata": {},
   "outputs": [],
   "source": [
    "# 데이터 타입 변환\n",
    "\n",
    "kin['addr_gu'] = kin['addr_gu'].astype(str)\n",
    "kin['addr_dong'] = kin['addr_dong'].astype(str)"
   ]
  },
  {
   "cell_type": "code",
   "execution_count": 33,
   "metadata": {},
   "outputs": [
    {
     "data": {
      "text/html": [
       "<div>\n",
       "<style scoped>\n",
       "    .dataframe tbody tr th:only-of-type {\n",
       "        vertical-align: middle;\n",
       "    }\n",
       "\n",
       "    .dataframe tbody tr th {\n",
       "        vertical-align: top;\n",
       "    }\n",
       "\n",
       "    .dataframe thead th {\n",
       "        text-align: right;\n",
       "    }\n",
       "</style>\n",
       "<table border=\"1\" class=\"dataframe\">\n",
       "  <thead>\n",
       "    <tr style=\"text-align: right;\">\n",
       "      <th></th>\n",
       "      <th>kin_type</th>\n",
       "      <th>kin_name</th>\n",
       "      <th>kin_addr</th>\n",
       "      <th>addr_gu</th>\n",
       "      <th>addr_dong</th>\n",
       "    </tr>\n",
       "  </thead>\n",
       "  <tbody>\n",
       "    <tr>\n",
       "      <th>3</th>\n",
       "      <td>사립(사인)</td>\n",
       "      <td>강남유치원</td>\n",
       "      <td>서울특별시 강남구 선릉로129길 31</td>\n",
       "      <td>없음</td>\n",
       "      <td>없음</td>\n",
       "    </tr>\n",
       "    <tr>\n",
       "      <th>196</th>\n",
       "      <td>공립(단설)</td>\n",
       "      <td>서울개포유치원</td>\n",
       "      <td>서울특별시 강남구 영동대로3길 45</td>\n",
       "      <td>없음</td>\n",
       "      <td>없음</td>\n",
       "    </tr>\n",
       "  </tbody>\n",
       "</table>\n",
       "</div>"
      ],
      "text/plain": [
       "    kin_type kin_name              kin_addr addr_gu addr_dong\n",
       "3     사립(사인)    강남유치원  서울특별시 강남구 선릉로129길 31      없음        없음\n",
       "196   공립(단설)  서울개포유치원   서울특별시 강남구 영동대로3길 45      없음        없음"
      ]
     },
     "execution_count": 33,
     "metadata": {},
     "output_type": "execute_result"
    }
   ],
   "source": [
    "kin[kin['addr_dong'] == '없음']"
   ]
  },
  {
   "cell_type": "code",
   "execution_count": 34,
   "metadata": {},
   "outputs": [
    {
     "name": "stdout",
     "output_type": "stream",
     "text": [
      "<class 'pandas.core.frame.DataFrame'>\n",
      "Int64Index: 756 entries, 0 to 757\n",
      "Data columns (total 5 columns):\n",
      " #   Column     Non-Null Count  Dtype \n",
      "---  ------     --------------  ----- \n",
      " 0   kin_type   756 non-null    object\n",
      " 1   kin_name   756 non-null    object\n",
      " 2   kin_addr   756 non-null    object\n",
      " 3   addr_gu    756 non-null    object\n",
      " 4   addr_dong  756 non-null    object\n",
      "dtypes: object(5)\n",
      "memory usage: 35.4+ KB\n"
     ]
    }
   ],
   "source": [
    "# 미운영 데이터 제외 (결측치)\n",
    "\n",
    "kin = kin.drop(3)\n",
    "kin = kin.drop(196)\n",
    "kin.info()"
   ]
  },
  {
   "cell_type": "code",
   "execution_count": 35,
   "metadata": {},
   "outputs": [
    {
     "data": {
      "text/html": [
       "<div>\n",
       "<style scoped>\n",
       "    .dataframe tbody tr th:only-of-type {\n",
       "        vertical-align: middle;\n",
       "    }\n",
       "\n",
       "    .dataframe tbody tr th {\n",
       "        vertical-align: top;\n",
       "    }\n",
       "\n",
       "    .dataframe thead th {\n",
       "        text-align: right;\n",
       "    }\n",
       "</style>\n",
       "<table border=\"1\" class=\"dataframe\">\n",
       "  <thead>\n",
       "    <tr style=\"text-align: right;\">\n",
       "      <th></th>\n",
       "      <th>kin_type</th>\n",
       "      <th>kin_name</th>\n",
       "      <th>kin_addr</th>\n",
       "      <th>addr_gu</th>\n",
       "      <th>addr_dong</th>\n",
       "    </tr>\n",
       "  </thead>\n",
       "  <tbody>\n",
       "    <tr>\n",
       "      <th>0</th>\n",
       "      <td>사립</td>\n",
       "      <td>가람유치원</td>\n",
       "      <td>서울특별시 강동구 상암로63길 39</td>\n",
       "      <td>강동구</td>\n",
       "      <td>명일2동</td>\n",
       "    </tr>\n",
       "    <tr>\n",
       "      <th>1</th>\n",
       "      <td>사립</td>\n",
       "      <td>가명유치원</td>\n",
       "      <td>서울특별시 중구 청파로 447-1</td>\n",
       "      <td>중구</td>\n",
       "      <td>중림동</td>\n",
       "    </tr>\n",
       "    <tr>\n",
       "      <th>2</th>\n",
       "      <td>사립</td>\n",
       "      <td>강남유정유치원</td>\n",
       "      <td>서울특별시 강남구 광평로34길 17</td>\n",
       "      <td>강남구</td>\n",
       "      <td>수서동</td>\n",
       "    </tr>\n",
       "    <tr>\n",
       "      <th>4</th>\n",
       "      <td>사립</td>\n",
       "      <td>강남유치원</td>\n",
       "      <td>서울특별시 동작구 상도로41가길 13</td>\n",
       "      <td>동작구</td>\n",
       "      <td>상도1동</td>\n",
       "    </tr>\n",
       "    <tr>\n",
       "      <th>5</th>\n",
       "      <td>사립</td>\n",
       "      <td>강동유정유치원</td>\n",
       "      <td>서울특별시 강동구 상일로10길 41</td>\n",
       "      <td>강동구</td>\n",
       "      <td>상일2동</td>\n",
       "    </tr>\n",
       "  </tbody>\n",
       "</table>\n",
       "</div>"
      ],
      "text/plain": [
       "  kin_type kin_name              kin_addr addr_gu addr_dong\n",
       "0       사립    가람유치원   서울특별시 강동구 상암로63길 39     강동구      명일2동\n",
       "1       사립    가명유치원    서울특별시 중구 청파로 447-1      중구       중림동\n",
       "2       사립  강남유정유치원   서울특별시 강남구 광평로34길 17     강남구       수서동\n",
       "4       사립    강남유치원  서울특별시 동작구 상도로41가길 13     동작구      상도1동\n",
       "5       사립  강동유정유치원   서울특별시 강동구 상일로10길 41     강동구      상일2동"
      ]
     },
     "execution_count": 35,
     "metadata": {},
     "output_type": "execute_result"
    }
   ],
   "source": [
    "# 유치원 형태 통일 (법인/사인, 단설/병설)\n",
    "kin['kin_type'] = kin['kin_type'].str[:-4]\n",
    "kin.head()"
   ]
  },
  {
   "attachments": {},
   "cell_type": "markdown",
   "metadata": {},
   "source": [
    "### 구별 비율"
   ]
  },
  {
   "cell_type": "code",
   "execution_count": 38,
   "metadata": {},
   "outputs": [
    {
     "name": "stdout",
     "output_type": "stream",
     "text": [
      "   addr_gu kin_type  addr_dong\n",
      "0      강남구       공립         17\n",
      "1      강남구       사립         18\n",
      "2      강동구       공립         11\n",
      "3      강동구       사립         21\n",
      "4      강북구       공립          7\n",
      "5      강북구       사립         10\n",
      "6      강서구       공립         18\n",
      "7      강서구       사립         31\n",
      "8      관악구       공립         16\n",
      "9      관악구       사립         15\n",
      "10     광진구       공립          8\n",
      "11     광진구       사립         17\n",
      "12     구로구       공립         14\n",
      "13     구로구       사립         17\n",
      "14     금천구       공립          7\n",
      "15     금천구       사립          9\n",
      "16     노원구       공립         20\n",
      "17     노원구       사립         39\n",
      "18     도봉구       공립         11\n",
      "19     도봉구       사립         17\n",
      "20    동대문구       공립          9\n",
      "21    동대문구       사립         18\n",
      "22     동작구       공립          8\n",
      "23     동작구       사립         18\n",
      "24     마포구       공립         13\n",
      "25     마포구       사립         14\n",
      "26    서대문구       공립          5\n",
      "27    서대문구       사립         16\n",
      "28     서초구       공립         10\n",
      "29     서초구       사립         13\n",
      "30     성동구       공립         14\n",
      "31     성동구       사립         14\n",
      "32     성북구       공립         16\n",
      "33     성북구       사립         30\n",
      "34     송파구       공립         20\n",
      "35     송파구       사립         27\n",
      "36     양천구       공립         14\n",
      "37     양천구       사립         24\n",
      "38    영등포구       공립         12\n",
      "39    영등포구       사립         27\n",
      "40     용산구       공립          4\n",
      "41     용산구       사립          9\n",
      "42     은평구       공립         18\n",
      "43     은평구       사립         19\n",
      "44     종로구       공립          5\n",
      "45     종로구       사립         11\n",
      "46      중구       공립          4\n",
      "47      중구       사립         10\n",
      "48     중랑구       공립         14\n",
      "49     중랑구       사립         17\n"
     ]
    }
   ],
   "source": [
    "kin_gu = kin.groupby(['addr_gu', 'kin_type'], as_index=False)['addr_dong'].count()\n",
    "print(kin_gu)"
   ]
  },
  {
   "cell_type": "code",
   "execution_count": 44,
   "metadata": {},
   "outputs": [
    {
     "data": {
      "text/html": [
       "<div>\n",
       "<style scoped>\n",
       "    .dataframe tbody tr th:only-of-type {\n",
       "        vertical-align: middle;\n",
       "    }\n",
       "\n",
       "    .dataframe tbody tr th {\n",
       "        vertical-align: top;\n",
       "    }\n",
       "\n",
       "    .dataframe thead th {\n",
       "        text-align: right;\n",
       "    }\n",
       "</style>\n",
       "<table border=\"1\" class=\"dataframe\">\n",
       "  <thead>\n",
       "    <tr style=\"text-align: right;\">\n",
       "      <th></th>\n",
       "      <th>구</th>\n",
       "      <th>공립</th>\n",
       "    </tr>\n",
       "  </thead>\n",
       "  <tbody>\n",
       "    <tr>\n",
       "      <th>0</th>\n",
       "      <td>강남구</td>\n",
       "      <td>48.571429</td>\n",
       "    </tr>\n",
       "    <tr>\n",
       "      <th>1</th>\n",
       "      <td>강동구</td>\n",
       "      <td>34.375000</td>\n",
       "    </tr>\n",
       "    <tr>\n",
       "      <th>2</th>\n",
       "      <td>강북구</td>\n",
       "      <td>41.176471</td>\n",
       "    </tr>\n",
       "    <tr>\n",
       "      <th>3</th>\n",
       "      <td>강서구</td>\n",
       "      <td>36.734694</td>\n",
       "    </tr>\n",
       "    <tr>\n",
       "      <th>4</th>\n",
       "      <td>관악구</td>\n",
       "      <td>51.612903</td>\n",
       "    </tr>\n",
       "  </tbody>\n",
       "</table>\n",
       "</div>"
      ],
      "text/plain": [
       "     구         공립\n",
       "0  강남구  48.571429\n",
       "1  강동구  34.375000\n",
       "2  강북구  41.176471\n",
       "3  강서구  36.734694\n",
       "4  관악구  51.612903"
      ]
     },
     "execution_count": 44,
     "metadata": {},
     "output_type": "execute_result"
    }
   ],
   "source": [
    "# 비율 계산 함수\n",
    "\n",
    "df = kin_gu\n",
    "\n",
    "def calculate_school_type_ratio(dataframe):\n",
    "    result = {}\n",
    "    for _, row in dataframe.iterrows():\n",
    "        구 = row['addr_gu']\n",
    "        학교형태 = row['kin_type']\n",
    "        학교수 = row['addr_dong']\n",
    "        \n",
    "        if 구 not in result:\n",
    "            result[구] = {'공립': 0, '사립': 0}\n",
    "        \n",
    "        result[구][학교형태] += 학교수\n",
    "    \n",
    "    # 계산된 비율을 저장\n",
    "    for 구 in result:\n",
    "        total = result[구]['공립'] + result[구]['사립']\n",
    "        if total > 0:\n",
    "            result[구]['공립'] = result[구]['공립'] * 100 / total\n",
    "            result[구]['사립'] = result[구]['사립'] * 100 / total\n",
    "        else:\n",
    "            result[구]['공립'] = 0\n",
    "            result[구]['사립'] = 0\n",
    "    \n",
    "    return result\n",
    "\n",
    "result = calculate_school_type_ratio(df)\n",
    "kin_gu_ratio = pd.DataFrame(result)\n",
    "\n",
    "kin_gu_ratio = kin_gu_ratio.T\n",
    "kin_gu_ratio = kin_gu_ratio.reset_index()\n",
    "kin_gu_ratio = kin_gu_ratio.rename(columns={'index': '구'})\n",
    "kin_gu_ratio = kin_gu_ratio[['구', '공립']]\n",
    "kin_gu_ratio.head()"
   ]
  },
  {
   "cell_type": "code",
   "execution_count": 47,
   "metadata": {},
   "outputs": [],
   "source": [
    "# csv로 저장\n",
    "kin_gu_ratio.to_csv(\"서울시 자치구별 국공립유치원 비율.csv\")"
   ]
  },
  {
   "attachments": {},
   "cell_type": "markdown",
   "metadata": {},
   "source": [
    "### 동별 비율"
   ]
  },
  {
   "cell_type": "code",
   "execution_count": 46,
   "metadata": {},
   "outputs": [
    {
     "name": "stdout",
     "output_type": "stream",
     "text": [
      "    addr_gu addr_dong kin_type  kin_name\n",
      "0       강남구      개포2동       공립         1\n",
      "1       강남구      개포2동       사립         1\n",
      "2       강남구      개포3동       사립         2\n",
      "3       강남구      개포4동       공립         1\n",
      "4       강남구      개포4동       사립         1\n",
      "..      ...       ...      ...       ...\n",
      "492     중랑구      신내2동       공립         2\n",
      "493     중랑구      신내2동       사립         3\n",
      "494     중랑구      중화1동       공립         1\n",
      "495     중랑구      중화1동       사립         2\n",
      "496     중랑구      중화2동       사립         1\n",
      "\n",
      "[497 rows x 4 columns]\n"
     ]
    }
   ],
   "source": [
    "kin_dong = kin.groupby(['addr_gu', 'addr_dong', 'kin_type'], as_index= False)['kin_name'].count()\n",
    "print(kin_dong)"
   ]
  },
  {
   "cell_type": "code",
   "execution_count": 48,
   "metadata": {},
   "outputs": [
    {
     "data": {
      "text/html": [
       "<div>\n",
       "<style scoped>\n",
       "    .dataframe tbody tr th:only-of-type {\n",
       "        vertical-align: middle;\n",
       "    }\n",
       "\n",
       "    .dataframe tbody tr th {\n",
       "        vertical-align: top;\n",
       "    }\n",
       "\n",
       "    .dataframe thead th {\n",
       "        text-align: right;\n",
       "    }\n",
       "</style>\n",
       "<table border=\"1\" class=\"dataframe\">\n",
       "  <thead>\n",
       "    <tr style=\"text-align: right;\">\n",
       "      <th></th>\n",
       "      <th>동</th>\n",
       "      <th>공립</th>\n",
       "    </tr>\n",
       "  </thead>\n",
       "  <tbody>\n",
       "    <tr>\n",
       "      <th>0</th>\n",
       "      <td>개포2동</td>\n",
       "      <td>50.0</td>\n",
       "    </tr>\n",
       "    <tr>\n",
       "      <th>1</th>\n",
       "      <td>개포3동</td>\n",
       "      <td>0.0</td>\n",
       "    </tr>\n",
       "    <tr>\n",
       "      <th>2</th>\n",
       "      <td>개포4동</td>\n",
       "      <td>50.0</td>\n",
       "    </tr>\n",
       "    <tr>\n",
       "      <th>3</th>\n",
       "      <td>논현1동</td>\n",
       "      <td>100.0</td>\n",
       "    </tr>\n",
       "    <tr>\n",
       "      <th>4</th>\n",
       "      <td>논현2동</td>\n",
       "      <td>50.0</td>\n",
       "    </tr>\n",
       "  </tbody>\n",
       "</table>\n",
       "</div>"
      ],
      "text/plain": [
       "      동     공립\n",
       "0  개포2동   50.0\n",
       "1  개포3동    0.0\n",
       "2  개포4동   50.0\n",
       "3  논현1동  100.0\n",
       "4  논현2동   50.0"
      ]
     },
     "execution_count": 48,
     "metadata": {},
     "output_type": "execute_result"
    }
   ],
   "source": [
    "# 비율 계산\n",
    "\n",
    "df = kin_dong\n",
    "\n",
    "def calculate_school_type_ratio(dataframe):\n",
    "    result = {}\n",
    "    for _, row in dataframe.iterrows():\n",
    "        구 = row['addr_gu']\n",
    "        동 = row['addr_dong']\n",
    "        학교형태 = row['kin_type']\n",
    "        학교수 = row['kin_name']\n",
    "        \n",
    "        if 동 not in result:\n",
    "            result[동] = {'공립': 0, '사립': 0}\n",
    "        \n",
    "        result[동][학교형태] += 학교수\n",
    "    \n",
    "    # 계산된 비율을 저장\n",
    "    for 동 in result:\n",
    "        total = result[동]['공립'] + result[동]['사립']\n",
    "        if total > 0:\n",
    "            result[동]['공립'] = result[동]['공립'] * 100 / total\n",
    "            result[동]['사립'] = result[동]['사립'] * 100 / total\n",
    "        else:\n",
    "            result[동]['공립'] = 0\n",
    "            result[동]['사립'] = 0\n",
    "    \n",
    "    return result\n",
    "\n",
    "result = calculate_school_type_ratio(df)\n",
    "kin_dong_ratio = pd.DataFrame(result)\n",
    "\n",
    "kin_dong_ratio = kin_dong_ratio.T\n",
    "kin_dong_ratio = kin_dong_ratio.reset_index()\n",
    "kin_dong_ratio = kin_dong_ratio.rename(columns={'index': '동'})\n",
    "kin_dong_ratio = kin_dong_ratio[['동', '공립']]\n",
    "kin_dong_ratio.head()"
   ]
  },
  {
   "cell_type": "code",
   "execution_count": 49,
   "metadata": {},
   "outputs": [],
   "source": [
    "# csv로 저장\n",
    "kin_dong_ratio.to_csv(\"서울시 행정동별 국공립유치원 비율.csv\")"
   ]
  },
  {
   "cell_type": "code",
   "execution_count": null,
   "metadata": {},
   "outputs": [],
   "source": []
  }
 ],
 "metadata": {
  "kernelspec": {
   "display_name": "base",
   "language": "python",
   "name": "python3"
  },
  "language_info": {
   "codemirror_mode": {
    "name": "ipython",
    "version": 3
   },
   "file_extension": ".py",
   "mimetype": "text/x-python",
   "name": "python",
   "nbconvert_exporter": "python",
   "pygments_lexer": "ipython3",
   "version": "3.10.9"
  },
  "orig_nbformat": 4
 },
 "nbformat": 4,
 "nbformat_minor": 2
}
